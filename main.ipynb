{
  "nbformat": 4,
  "nbformat_minor": 0,
  "metadata": {
    "colab": {
      "name": "Счёты.ipynb",
      "provenance": []
    },
    "kernelspec": {
      "name": "python3",
      "display_name": "Python 3"
    },
    "language_info": {
      "name": "python"
    }
  },
  "cells": [
    {
      "cell_type": "code",
      "metadata": {
        "id": "_VcvtK9qXShT"
      },
      "source": [
        "import pandas as pd\n",
        "import numpy as np\n",
        "import os"
      ],
      "execution_count": null,
      "outputs": []
    },
    {
      "cell_type": "code",
      "metadata": {
        "id": "sXEsLDSYeSFs"
      },
      "source": [
        "os.chdir('./Uni')"
      ],
      "execution_count": null,
      "outputs": []
    },
    {
      "cell_type": "code",
      "metadata": {
        "colab": {
          "base_uri": "https://localhost:8080/",
          "height": 35
        },
        "id": "mJ6FSzgfdypl",
        "outputId": "12bbc03d-8839-43cd-c99e-4c7d29e18e51"
      },
      "source": [
        "os.path.abspath(os.curdir)"
      ],
      "execution_count": null,
      "outputs": [
        {
          "output_type": "execute_result",
          "data": {
            "application/vnd.google.colaboratory.intrinsic+json": {
              "type": "string"
            },
            "text/plain": [
              "'/content'"
            ]
          },
          "metadata": {
            "tags": []
          },
          "execution_count": 2
        }
      ]
    },
    {
      "cell_type": "code",
      "metadata": {
        "id": "hoge5H5U5ljM"
      },
      "source": [
        "pd.set_option('mode.chained_assignment',None)"
      ],
      "execution_count": null,
      "outputs": []
    },
    {
      "cell_type": "code",
      "metadata": {
        "colab": {
          "base_uri": "https://localhost:8080/"
        },
        "id": "0y9fKNmtZtPf",
        "outputId": "962c37b7-adbf-42d7-9cdd-8f4f58aa309c"
      },
      "source": [
        "os.listdir(\"./Uni\")"
      ],
      "execution_count": null,
      "outputs": [
        {
          "output_type": "execute_result",
          "data": {
            "text/plain": [
              "['Отработка_квартилей_вторая_волна.xlsx']"
            ]
          },
          "metadata": {
            "tags": []
          },
          "execution_count": 5
        }
      ]
    },
    {
      "cell_type": "code",
      "metadata": {
        "id": "Sew9h--0bZx4"
      },
      "source": [
        "list_of_files = os.listdir(\"./Uni\")"
      ],
      "execution_count": null,
      "outputs": []
    },
    {
      "cell_type": "code",
      "metadata": {
        "id": "P8VLjE8XblAV"
      },
      "source": [
        "class UniProcessing():\n",
        "\n",
        "    def __init__(self, data, author_count = False, file = True, data_name = None):\n",
        "        #this code should execute in same folder with file\n",
        "        if file:\n",
        "            self.row_data = pd.read_excel(data)\n",
        "            self.university_name = data[:-5]\n",
        "        else:\n",
        "            self.row_data = data.copy()\n",
        "            self.university_name = data_name\n",
        "        if self.university_name == 'National University of Science and Technology MISiS':\n",
        "            self.university_name = 'National University of Science and Technology \"MISiS\"'\n",
        "        self.row_data['Year'] = self.row_data['Year'].astype(int)\n",
        "        self.final_data = self.row_data.copy()\n",
        "        self.final_data['Q'] = None\n",
        "        self.final_data['Contrib'] = None\n",
        "        self.author_count_mode = False\n",
        "        self.af_id_list = []\n",
        "        self.res = self.__create_res()\n",
        "\n",
        "    def get_final_data(self):\n",
        "        return self.final_data\n",
        "\n",
        "    def get_res(self):\n",
        "        return self.res\n",
        "\n",
        "    def get_university_name(self):\n",
        "        return self.university_name\n",
        "\n",
        "    def get_af_id_list(self):\n",
        "        return self.af_id_list\n",
        "\n",
        "    def get_zero_controbution(self):\n",
        "        return self.final_data[self.final_data['Contrib']==0].shape[0]/self.final_data.shape[0]\n",
        "\n",
        "    def create_af_id_list(self):\n",
        "        for i in range(0, self.row_data.shape[0]):\n",
        "            afil_str = self.row_data['Scopus Affiliation IDs'][i]\n",
        "            if not isinstance(afil_str,str) and str(afil_str) not in self.af_id_list and afil_str is not np.NaN:\n",
        "                self.af_id_list.append(str(afil_str))\n",
        "\n",
        "    def data_processing(self):\n",
        "        res = self.res\n",
        "        data = self.final_data\n",
        "        for i in range(0, data.shape[0]):\n",
        "            #print(i)\n",
        "            index = res[res['year'] == data['Year'][i]].index[0]\n",
        "            q = data['SJR percentile (publication year) *'][i]\n",
        "\n",
        "            aut_str = data['Authors'][i]\n",
        "            if isinstance(aut_str, str) and '|' in aut_str:\n",
        "                autr_list = aut_str.split('|')\n",
        "            else:\n",
        "                autr_list = [aut_str]\n",
        "\n",
        "            afil_str = data['Scopus Affiliation IDs'][i]\n",
        "            if isinstance(afil_str,str):\n",
        "                afil_list = afil_str.split('| ')\n",
        "            else:\n",
        "                afil_list = [afil_str]\n",
        "            \n",
        "            afil_weight = 0\n",
        "            for elem in afil_list:\n",
        "                if str(elem) in self.af_id_list:\n",
        "                    afil_weight += 1\n",
        "            \n",
        "            #print(affil_weight)\n",
        "\n",
        "            if q == '-':\n",
        "                res['Q999_count'][index] += 1\n",
        "                #res['Q999_author_count'][index] += len(autr_list)\n",
        "                res['Q999_affil_base_count'][index] += afil_weight/len(afil_list)\n",
        "                res['Q999_affil_only_full'][index] += afil_weight/len(afil_list)\n",
        "                #res['Q999_affil_all_count'][index] += len(afil_list)\n",
        "                data['Q'][i] = '-'        \n",
        "            elif q <= 25:\n",
        "                res['Q1_count'][index] += 1\n",
        "                #res['Q1_author_count'][index] += len(autr_list)\n",
        "                res['Q1_affil_base_count'][index] += afil_weight/len(afil_list)\n",
        "                res['Q1_affil_only_full'][index] += afil_weight/len(afil_list)\n",
        "                #res['Q1_affil_all_count'][index] += len(afil_list)\n",
        "                data['Q'][i] = 1\n",
        "            elif 25 < q <= 50:\n",
        "                res['Q2_count'][index] += 1\n",
        "                #res['Q2_author_count'][index] += len(autr_list)\n",
        "                res['Q2_affil_base_count'][index] += afil_weight/len(afil_list)\n",
        "                res['Q2_affil_only_full'][index] += afil_weight/len(afil_list)\n",
        "                #res['Q2_affil_all_count'][index] += len(afil_list)\n",
        "                data['Q'][i] = 2\n",
        "            elif 50 < q <= 75:\n",
        "                res['Q3_count'][index] += 1\n",
        "                #res['Q3_author_count'][index] += len(autr_list)        \n",
        "                res['Q3_affil_base_count'][index] += afil_weight/len(afil_list)\n",
        "                res['Q3_affil_only_full'][index] += afil_weight/len(afil_list)\n",
        "                #res['Q3_affil_all_count'][index] += len(afil_list)\n",
        "                data['Q'][i] = 3\n",
        "            else:\n",
        "                res['Q4_count'][index] += 1\n",
        "                #res['Q4_author_count'][index] += len(autr_list)        \n",
        "                res['Q4_affil_base_count'][index] += afil_weight/len(afil_list)\n",
        "                res['Q4_affil_only_full'][index] += afil_weight/len(afil_list)\n",
        "                #res['Q4_affil_all_count'][index] += len(afil_list)\n",
        "                data['Q'][i] = 4\n",
        "\n",
        "            data['Contrib'][i] = afil_weight/len(afil_list)\n",
        "\n",
        "    def res_count(self):\n",
        "        res = self.res\n",
        "\n",
        "        res['Q1_procent'] = res['Q1_count']/(res['Q1_count']+res['Q2_count']+res['Q3_count']+res['Q4_count']+res['Q999_count'])\n",
        "        res['Q2_procent'] = res['Q2_count']/(res['Q1_count']+res['Q2_count']+res['Q3_count']+res['Q4_count']+res['Q999_count'])\n",
        "        res['Q3_procent'] = res['Q3_count']/(res['Q1_count']+res['Q2_count']+res['Q3_count']+res['Q4_count']+res['Q999_count'])\n",
        "        res['Q4_procent'] = res['Q4_count']/(res['Q1_count']+res['Q2_count']+res['Q3_count']+res['Q4_count']+res['Q999_count'])\n",
        "        res['Q999_procent'] = res['Q999_count']/(res['Q1_count']+res['Q2_count']+res['Q3_count']+res['Q4_count']+res['Q999_count'])\n",
        "\n",
        "        if self.author_count_mode:\n",
        "            res['Q1_author_procent'] = res['Q1_author_count']/(res['Q1_author_count']+res['Q2_author_count']+res['Q3_author_count']+res['Q4_author_count']+res['Q999_author_count'])\n",
        "            res['Q2_author_procent'] = res['Q2_author_count']/(res['Q1_author_count']+res['Q2_author_count']+res['Q3_author_count']+res['Q4_author_count']+res['Q999_author_count'])\n",
        "            res['Q3_author_procent'] = res['Q3_author_count']/(res['Q1_author_count']+res['Q2_author_count']+res['Q3_author_count']+res['Q4_author_count']+res['Q999_author_count'])\n",
        "            res['Q4_author_procent'] = res['Q4_author_count']/(res['Q1_author_count']+res['Q2_author_count']+res['Q3_author_count']+res['Q4_author_count']+res['Q999_author_count'])\n",
        "            res['Q999_author_procent'] = res['Q999_author_count']/(res['Q1_author_count']+res['Q2_author_count']+res['Q3_author_count']+res['Q4_author_count']+res['Q999_author_count'])\n",
        "\n",
        "        res['Q1_affil_procent'] = res['Q1_affil_base_count']/res['Q1_count']#(res['Q1_affil_base_count']+res['Q1_affil_all_count'])\n",
        "        res['Q2_affil_procent'] = res['Q2_affil_base_count']/res['Q2_count']#(res['Q2_affil_base_count']+res['Q2_affil_all_count'])\n",
        "        res['Q3_affil_procent'] = res['Q3_affil_base_count']/res['Q3_count']#(res['Q3_affil_base_count']+res['Q3_affil_all_count'])\n",
        "        res['Q4_affil_procent'] = res['Q4_affil_base_count']/res['Q4_count']#(res['Q4_affil_base_count']+res['Q4_affil_all_count'])\n",
        "        res['Q999_affil_procent'] = res['Q999_affil_base_count']/res['Q999_count']#(res['Q999_affil_base_count']+res['Q999_affil_all_count'])\n",
        "\n",
        "    def save_res(self):\n",
        "        self.res.to_excel(f\"res_{self.university_name}.xlsx\")\n",
        "        self.final_data.to_excel(f'{self.university_name}_proc.xlsx')\n",
        "        \n",
        "        \n",
        "    \n",
        "    def __create_res(self):\n",
        "        res = pd.DataFrame(columns=['year'], data=list(self.row_data['Year'].value_counts().index))\n",
        "        res['Q1_count'] = 0\n",
        "        res['Q1_procent']= None\n",
        "        res['Q2_count'] = 0\n",
        "        res['Q2_procent']= None\n",
        "        res['Q3_count'] = 0\n",
        "        res['Q3_procent']= None\n",
        "        res['Q4_count'] = 0\n",
        "        res['Q4_procent']= None\n",
        "        res['Q999_count'] = 0\n",
        "        res['Q999_procent'] = None\n",
        "        if self.author_count_mode:\n",
        "            res['Q1_author_count'] = 0\n",
        "            res['Q1_author_procent']= None\n",
        "            res['Q2_author_count'] = 0\n",
        "            res['Q2_author_procent']= None\n",
        "            res['Q3_author_count'] = 0\n",
        "            res['Q3_author_procent']= None\n",
        "            res['Q4_author_count'] = 0\n",
        "            res['Q4_author_procent']= None\n",
        "            res['Q999_author_count'] = 0\n",
        "            res['Q999_author_procent'] = None\n",
        "        res['Q1_affil_base_count'] = 0.0\n",
        "        res['Q1_affil_only_full'] = 0\n",
        "        #res['Q1_affil_all_count'] = 0\n",
        "        res['Q1_affil_procent']= None\n",
        "        res['Q2_affil_base_count'] = 0.0\n",
        "        res['Q2_affil_only_full'] = 0\n",
        "        #res['Q2_affil_all_count'] = 0\n",
        "        res['Q2_affil_procent']= None\n",
        "        res['Q3_affil_base_count'] = 0.0\n",
        "        res['Q3_affil_only_full'] = 0\n",
        "        #res['Q3_affil_all_count'] = 0\n",
        "        res['Q3_affil_procent']= None\n",
        "        res['Q4_affil_base_count'] = 0.0\n",
        "        res['Q4_affil_only_full'] = 0\n",
        "        #res['Q4_affil_all_count'] = 0\n",
        "        res['Q4_affil_procent']= None\n",
        "        res['Q999_affil_base_count'] = 0.0\n",
        "        res['Q999_affil_only_full'] = 0\n",
        "        #res['Q999_affil_all_count'] = 0\n",
        "        res['Q999_affil_procent'] = None\n",
        "\n",
        "        return res"
      ],
      "execution_count": null,
      "outputs": []
    },
    {
      "cell_type": "code",
      "metadata": {
        "colab": {
          "base_uri": "https://localhost:8080/"
        },
        "id": "uldz1XImdhbX",
        "outputId": "4dd0a155-7fb5-41eb-eed2-41b03729aa79"
      },
      "source": [
        "uni_list = []\n",
        "for elem in list_of_files[0:1]:\n",
        "    print(elem)\n",
        "    uni_list.append(UniProcessing(elem))"
      ],
      "execution_count": null,
      "outputs": [
        {
          "output_type": "stream",
          "text": [
            "Moscow_Engineering_Physics_Institute.xlsx\n"
          ],
          "name": "stdout"
        }
      ]
    },
    {
      "cell_type": "code",
      "metadata": {
        "id": "yk90igU6__4j"
      },
      "source": [
        "data = pd.read_excel('Uni/uni.xlsx', sheet_name=None)\n",
        "uni_list = []\n",
        "for key in data.keys():\n",
        "    print(key)\n",
        "    uni_list.append(UniProcessing(data[key], file=False, data_name = key))"
      ],
      "execution_count": null,
      "outputs": []
    },
    {
      "cell_type": "code",
      "metadata": {
        "id": "-HAm-6nZg-D2"
      },
      "source": [
        "for uni in uni_list:\n",
        "    print(uni.get_university_name())\n",
        "    uni.create_af_id_list()\n",
        "    print(uni.get_af_id_list())\n",
        "    uni.data_processing()\n",
        "    uni.res_count()\n",
        "    print(uni.get_zero_controbution())\n",
        "    uni.save_res()\n",
        "    #df = uni.get_res().head(5)\n",
        "#df"
      ],
      "execution_count": null,
      "outputs": []
    }
  ]
}